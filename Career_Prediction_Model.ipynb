{
  "nbformat": 4,
  "nbformat_minor": 0,
  "metadata": {
    "colab": {
      "provenance": [],
      "authorship_tag": "ABX9TyMMSiNQf+k8hKMz1pxNYMyH",
      "include_colab_link": true
    },
    "kernelspec": {
      "name": "python3",
      "display_name": "Python 3"
    },
    "language_info": {
      "name": "python"
    }
  },
  "cells": [
    {
      "cell_type": "markdown",
      "metadata": {
        "id": "view-in-github",
        "colab_type": "text"
      },
      "source": [
        "<a href=\"https://colab.research.google.com/github/Thabang1022/4IR_Enrollment_Model.txt/blob/main/Career_Prediction_Model.ipynb\" target=\"_parent\"><img src=\"https://colab.research.google.com/assets/colab-badge.svg\" alt=\"Open In Colab\"/></a>"
      ]
    },
    {
      "cell_type": "code",
      "source": [
        "from sklearn.tree import DecisionTreeClassifier\n",
        "from sklearn.model_selection import train_test_split\n",
        "from sklearn.metrics import accuracy_score\n",
        "from sklearn.feature_extraction.text import CountVectorizer\n",
        "import numpy as np\n",
        "\n",
        "# Sample Data\n",
        "data = {\n",
        "    'Skills': ['AI, Python', 'Teaching, Communication', 'Data Analysis, Excel', 'Healthcare, Biology'],\n",
        "    'Interests': ['Technology', 'Education', 'Business', 'Healthcare'],\n",
        "    'Career': ['AI Specialist', 'Educator', 'Data Analyst', 'Healthcare Worker']\n",
        "}\n",
        "\n",
        "# Encoding Skills and Interests\n",
        "vectorizer_skills = CountVectorizer()\n",
        "vectorizer_interests = CountVectorizer()\n",
        "\n",
        "skills_encoded = vectorizer_skills.fit_transform(data['Skills']).toarray()\n",
        "interests_encoded = vectorizer_interests.fit_transform(data['Interests']).toarray()\n",
        "\n",
        "# Combine Skills and Interests Features\n",
        "X = np.hstack((skills_encoded, interests_encoded))  # Use horizontal stacking\n",
        "y = np.array(data['Career'])  # Convert labels to a NumPy array\n",
        "\n",
        "# Train-Test Split\n",
        "X_train, X_test, y_train, y_test = train_test_split(X, y, test_size=0.2, random_state=42)\n",
        "\n",
        "# Train the Model\n",
        "model = DecisionTreeClassifier()\n",
        "model.fit(X_train, y_train)\n",
        "\n",
        "# Predict and Evaluate\n",
        "y_pred = model.predict(X_test)\n",
        "print(\"Accuracy:\", accuracy_score(y_test, y_pred))\n",
        "\n",
        "# Example User Input\n",
        "user_input = {\n",
        "    \"Skills\": \"Python, Data Analysis\",\n",
        "    \"Interest\": \"Technology\"\n",
        "}\n",
        "\n",
        "# Encode User Input\n",
        "user_skills = vectorizer_skills.transform([user_input[\"Skills\"]]).toarray()\n",
        "user_interest = vectorizer_interests.transform([user_input[\"Interest\"]]).toarray()\n",
        "user_combined = np.hstack((user_skills, user_interest))\n",
        "\n",
        "# Predict Career for User Input\n",
        "predicted_career = model.predict(user_combined)\n",
        "print(\"Recommended Career:\", predicted_career[0])"
      ],
      "metadata": {
        "colab": {
          "base_uri": "https://localhost:8080/"
        },
        "id": "85zMQQQXFn-j",
        "outputId": "834871fa-fa50-435d-8ad3-a2db96bfa553"
      },
      "execution_count": 2,
      "outputs": [
        {
          "output_type": "stream",
          "name": "stdout",
          "text": [
            "Accuracy: 0.0\n",
            "Recommended Career: AI Specialist\n"
          ]
        }
      ]
    },
    {
      "cell_type": "code",
      "source": [
        "from sklearn.tree import DecisionTreeClassifier\n",
        "from sklearn.model_selection import train_test_split\n",
        "from sklearn.metrics import accuracy_score\n",
        "from sklearn.feature_extraction.text import CountVectorizer\n",
        "import numpy as np\n",
        "\n",
        "# Expanded Data\n",
        "data = {\n",
        "    'Skills': [\n",
        "        'AI, Python, Machine Learning', 'Teaching, Communication, Public Speaking',\n",
        "        'Data Analysis, Excel, SQL', 'Healthcare, Biology, Anatomy',\n",
        "        'Cybersecurity, Networking, Ethical Hacking', 'Marketing, SEO, Content Writing',\n",
        "        'Web Development, HTML, CSS, JavaScript', 'Graphic Design, Photoshop, Creativity',\n",
        "        'Financial Analysis, Accounting, Budgeting', 'Project Management, Leadership, Planning'\n",
        "    ],\n",
        "    'Interests': [\n",
        "        'Technology, AI', 'Education, Social Impact',\n",
        "        'Business, Data', 'Healthcare, Medicine',\n",
        "        'Technology, Security', 'Business, Creativity',\n",
        "        'Technology, Development', 'Art, Creativity',\n",
        "        'Finance, Business', 'Leadership, Organization'\n",
        "    ],\n",
        "    'Career': [\n",
        "        'AI Specialist', 'Educator',\n",
        "        'Data Analyst', 'Healthcare Worker',\n",
        "        'Cybersecurity Analyst', 'Marketing Specialist',\n",
        "        'Web Developer', 'Graphic Designer',\n",
        "        'Financial Analyst', 'Project Manager'\n",
        "    ]\n",
        "}\n",
        "\n",
        "# Encoding Skills and Interests\n",
        "vectorizer_skills = CountVectorizer()\n",
        "vectorizer_interests = CountVectorizer()\n",
        "\n",
        "skills_encoded = vectorizer_skills.fit_transform(data['Skills']).toarray()\n",
        "interests_encoded = vectorizer_interests.fit_transform(data['Interests']).toarray()\n",
        "\n",
        "# Combine Skills and Interests Features\n",
        "X = np.hstack((skills_encoded, interests_encoded))\n",
        "y = np.array(data['Career'])\n",
        "\n",
        "# Train-Test Split\n",
        "X_train, X_test, y_train, y_test = train_test_split(X, y, test_size=0.2, random_state=42)\n",
        "\n",
        "# Train the Decision Tree Model\n",
        "model = DecisionTreeClassifier()\n",
        "model.fit(X_train, y_train)\n",
        "\n",
        "# Evaluate Model Accuracy\n",
        "y_pred = model.predict(X_test)\n",
        "print(\"Model Accuracy:\", accuracy_score(y_test, y_pred))\n",
        "\n",
        "# Function to Get User Input and Recommend Career\n",
        "def recommend_career():\n",
        "    print(\"\\nEnter your skills and interests to get a career recommendation:\\n\")\n",
        "\n",
        "    # Get user input for skills and interests\n",
        "    user_skills = input(\"Enter your skills (e.g., 'Python, Data Analysis'): \")\n",
        "    user_interest = input(\"Enter your interests (e.g., 'Technology, Business'): \")\n",
        "\n",
        "    # Encode user input\n",
        "    user_skills_encoded = vectorizer_skills.transform([user_skills]).toarray()\n",
        "    user_interest_encoded = vectorizer_interests.transform([user_interest]).toarray()\n",
        "\n",
        "    # Combine encoded input\n",
        "    user_combined = np.hstack((user_skills_encoded, user_interest_encoded))\n",
        "\n",
        "    # Predict career\n",
        "    predicted_career = model.predict(user_combined)\n",
        "    print(\"\\nBased on your input, the recommended career is:\", predicted_career[0])\n",
        "\n",
        "# Call the function to allow the user to input data\n",
        "recommend_career()"
      ],
      "metadata": {
        "colab": {
          "base_uri": "https://localhost:8080/"
        },
        "id": "clIjfTxtGj9E",
        "outputId": "e46a4a7b-e5e4-4ddc-f4ae-c4818da54842"
      },
      "execution_count": null,
      "outputs": [
        {
          "metadata": {
            "tags": null
          },
          "name": "stdout",
          "output_type": "stream",
          "text": [
            "Model Accuracy: 0.0\n",
            "\n",
            "Enter your skills and interests to get a career recommendation:\n",
            "\n"
          ]
        }
      ]
    }
  ]
}